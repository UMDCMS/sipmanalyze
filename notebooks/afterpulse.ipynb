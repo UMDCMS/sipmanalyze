{
 "cells": [
  {
   "attachments": {},
   "cell_type": "markdown",
   "metadata": {},
   "source": [
    "# Direct measurement of afterpulsing\n",
    "\n",
    "Afterpulsing properties can be measured direct using waveform data triggered by\n",
    "the dark current discharges, and finding where how delayed a secondary plot\n",
    "occurs after the primary discharge. We will start to by importing the required\n",
    "libraries and loading in an example data file. \n"
   ]
  },
  {
   "cell_type": "code",
   "execution_count": 1,
   "metadata": {},
   "outputs": [
    {
     "name": "stderr",
     "output_type": "stream",
     "text": [
      "/home/ensc/VirtualENV/sipmenv/lib/python3.8/site-packages/zfit/__init__.py:63: UserWarning: TensorFlow warnings are by default suppressed by zfit. In order to show them, set the environment variable ZFIT_DISABLE_TF_WARNINGS=0. In order to suppress the TensorFlow warnings AND this warning, set ZFIT_DISABLE_TF_WARNINGS=1.\n",
      "  warnings.warn(\n"
     ]
    }
   ],
   "source": [
    "import sipmanalyze.formats as forms\n",
    "import sipmanalyze.plotting as plt\n",
    "import awkward as ak\n",
    "import numpy as np\n",
    "import hist\n",
    "import zfit\n",
    "\n",
    "container = forms.waveform.waveform_container.from_root(\n",
    "  'data/dark_current_waveform.root')\n"
   ]
  },
  {
   "attachments": {},
   "cell_type": "markdown",
   "metadata": {},
   "source": [
    "Here we will compare with the neighboring time slices to find the secondary\n",
    "peak. Here we define the \"secondary peak\" as time slices where the waveform is\n",
    "at a local minimum is smaller than \"-2\" ADC compared with 0 (since the inputs to\n",
    "the picoscope is AC coupled, the baseline should be 0). \n",
    "\n",
    "As the waveform used for this analysis has many temporal samples, we split the\n",
    "computation into batches of 10K waveforms per batch."
   ]
  },
  {
   "cell_type": "code",
   "execution_count": null,
   "metadata": {},
   "outputs": [
    {
     "name": "stdout",
     "output_type": "stream",
     "text": [
      "Running events: 90001-100000...Complete!\n"
     ]
    }
   ],
   "source": [
    "tint = container.settings.timeintervals\n",
    "tmin = tint\n",
    "tmax = len(container.waveforms[0])\n",
    "tdiff = ak.Array([])\n",
    "\n",
    "n_batch = 10000\n",
    "for i in range(0, len(container.waveforms), n_batch):\n",
    "  print(f'\\rRunning events: {i+1}-{i + n_batch}...', end='')\n",
    "  waveforms = container.waveforms[i:i + n_batch]\n",
    "  peak = waveforms[:, 1:-1]\n",
    "  pre_peak = waveforms[:, :-2]\n",
    "  post_peak = waveforms[:, 2:]\n",
    "\n",
    "  t = ak.local_index(waveforms, axis=-1) * tint\n",
    "  tmin, tmax = tint, ak.max(t) + tint\n",
    "  is_peak = (peak < (pre_peak - 1)) & (peak < (post_peak - 1))  & (peak < -3)\n",
    "  t = ak.pad_none(t[is_peak], 2, axis=-1)\n",
    "  diff = (t[:, 1] - t[:, 0]) * tint\n",
    "  diff = diff[~ak.is_none(diff)]\n",
    "  tdiff = ak.concatenate([tdiff, diff])\n",
    "\n",
    "print('Complete!')"
   ]
  },
  {
   "attachments": {},
   "cell_type": "markdown",
   "metadata": {},
   "source": [
    "Next we set up the parameters for the fit. The secondary peak arrival time\n",
    "should follow a double exponential distribution:\n",
    "\n",
    "$$\n",
    "P(t\\; f, \\tau_{a.p.}, \\tau_{d.c.}, )\n",
    "=\n",
    "\\frac{f}{\\tau_{a.p.}} e^{-t/\\tau_{a.p.}} + \\frac{1-f}{\\tau_{d.c.}}e^{-t/\\tau_{d.c.}},\n",
    "$$\n",
    "\n",
    "Where $\\tau_{a.p.}$ and $\\tau_{d.c.}$ is the after pulse and dark current time\n",
    "scale respectively, and $f$ is the afterpulsing probability. Here we setup these\n",
    "variable to be defined using the `zfit.pdf` framework. Arrival time is split\n",
    "into discrete time bins, we also need to take time to modify the NLL function to\n",
    "take in binned data formats. The bin also only starts at 48 seconds as before\n",
    "that the effects is dominated by the scope voltage resolution's ability to\n",
    "distinguish between peaks in the falling edge of the initial pulse.\n"
   ]
  },
  {
   "cell_type": "code",
   "execution_count": null,
   "metadata": {},
   "outputs": [
    {
     "ename": "NameAlreadyTakenError",
     "evalue": "Another parameter is already named tau_ap. Use a different, unique one.",
     "output_type": "error",
     "traceback": [
      "\u001b[0;31m---------------------------------------------------------------------------\u001b[0m",
      "\u001b[0;31mNameAlreadyTakenError\u001b[0m                     Traceback (most recent call last)",
      "Cell \u001b[0;32mIn[12], line 3\u001b[0m\n\u001b[1;32m      1\u001b[0m obs_unbinned \u001b[39m=\u001b[39m zfit\u001b[39m.\u001b[39mSpace(\u001b[39m'\u001b[39m\u001b[39mt\u001b[39m\u001b[39m'\u001b[39m, limits\u001b[39m=\u001b[39m(\u001b[39m48\u001b[39m, \u001b[39m2000\u001b[39m))\n\u001b[1;32m      2\u001b[0m data_unbinned \u001b[39m=\u001b[39m zfit\u001b[39m.\u001b[39mData\u001b[39m.\u001b[39mfrom_numpy(obs_unbinned, ak\u001b[39m.\u001b[39mto_numpy(tdiff))\n\u001b[0;32m----> 3\u001b[0m tau_ap \u001b[39m=\u001b[39m zfit\u001b[39m.\u001b[39;49mParameter(\u001b[39m\"\u001b[39;49m\u001b[39mtau_ap\u001b[39;49m\u001b[39m\"\u001b[39;49m, \u001b[39m20.0\u001b[39;49m, \u001b[39m2\u001b[39;49m, \u001b[39m100\u001b[39;49m)\n\u001b[1;32m      4\u001b[0m tau_dc \u001b[39m=\u001b[39m zfit\u001b[39m.\u001b[39mParameter(\u001b[39m\"\u001b[39m\u001b[39mtau_dc\u001b[39m\u001b[39m\"\u001b[39m, \u001b[39m1000.0\u001b[39m, \u001b[39m2\u001b[39m, \u001b[39m100_000\u001b[39m)\n\u001b[1;32m      5\u001b[0m lam_ap \u001b[39m=\u001b[39m zfit\u001b[39m.\u001b[39mComposedParameter(\u001b[39m'\u001b[39m\u001b[39mlam_ap\u001b[39m\u001b[39m'\u001b[39m, \u001b[39mlambda\u001b[39;00m x: \u001b[39m-\u001b[39m\u001b[39m1.\u001b[39m \u001b[39m/\u001b[39m x, params\u001b[39m=\u001b[39m(tau_ap, ))\n",
      "File \u001b[0;32m~/VirtualENV/sipmenv/lib/python3.8/site-packages/tensorflow/python/util/traceback_utils.py:153\u001b[0m, in \u001b[0;36mfilter_traceback.<locals>.error_handler\u001b[0;34m(*args, **kwargs)\u001b[0m\n\u001b[1;32m    151\u001b[0m \u001b[39mexcept\u001b[39;00m \u001b[39mException\u001b[39;00m \u001b[39mas\u001b[39;00m e:\n\u001b[1;32m    152\u001b[0m   filtered_tb \u001b[39m=\u001b[39m _process_traceback_frames(e\u001b[39m.\u001b[39m__traceback__)\n\u001b[0;32m--> 153\u001b[0m   \u001b[39mraise\u001b[39;00m e\u001b[39m.\u001b[39mwith_traceback(filtered_tb) \u001b[39mfrom\u001b[39;00m \u001b[39mNone\u001b[39;00m\n\u001b[1;32m    154\u001b[0m \u001b[39mfinally\u001b[39;00m:\n\u001b[1;32m    155\u001b[0m   \u001b[39mdel\u001b[39;00m filtered_tb\n",
      "File \u001b[0;32m~/VirtualENV/sipmenv/lib/python3.8/site-packages/zfit/core/parameter.py:414\u001b[0m, in \u001b[0;36mParameter.__init__\u001b[0;34m(self, name, value, lower, upper, step_size, floating, dtype, lower_limit, upper_limit)\u001b[0m\n\u001b[1;32m    409\u001b[0m \u001b[39mdef\u001b[39;00m \u001b[39mconstraint\u001b[39m(x):\n\u001b[1;32m    410\u001b[0m     \u001b[39mreturn\u001b[39;00m tfp\u001b[39m.\u001b[39mmath\u001b[39m.\u001b[39mclip_by_value_preserve_gradient(\n\u001b[1;32m    411\u001b[0m         x, clip_value_min\u001b[39m=\u001b[39m\u001b[39mself\u001b[39m\u001b[39m.\u001b[39mlower, clip_value_max\u001b[39m=\u001b[39m\u001b[39mself\u001b[39m\u001b[39m.\u001b[39mupper\n\u001b[1;32m    412\u001b[0m     )\n\u001b[0;32m--> 414\u001b[0m \u001b[39msuper\u001b[39;49m()\u001b[39m.\u001b[39;49m\u001b[39m__init__\u001b[39;49m(\n\u001b[1;32m    415\u001b[0m     initial_value\u001b[39m=\u001b[39;49mvalue,\n\u001b[1;32m    416\u001b[0m     dtype\u001b[39m=\u001b[39;49mdtype,\n\u001b[1;32m    417\u001b[0m     name\u001b[39m=\u001b[39;49mname,\n\u001b[1;32m    418\u001b[0m     constraint\u001b[39m=\u001b[39;49mconstraint,\n\u001b[1;32m    419\u001b[0m     params\u001b[39m=\u001b[39;49m{},\n\u001b[1;32m    420\u001b[0m )\n\u001b[1;32m    422\u001b[0m \u001b[39mself\u001b[39m\u001b[39m.\u001b[39mlower \u001b[39m=\u001b[39m lower\n\u001b[1;32m    423\u001b[0m \u001b[39mself\u001b[39m\u001b[39m.\u001b[39mupper \u001b[39m=\u001b[39m upper\n",
      "File \u001b[0;32m~/VirtualENV/sipmenv/lib/python3.8/site-packages/zfit/core/parameter.py:284\u001b[0m, in \u001b[0;36mZfitParameterMixin.__init__\u001b[0;34m(self, name, **kwargs)\u001b[0m\n\u001b[1;32m    282\u001b[0m \u001b[39mdef\u001b[39;00m \u001b[39m__init__\u001b[39m(\u001b[39mself\u001b[39m, name, \u001b[39m*\u001b[39m\u001b[39m*\u001b[39mkwargs):\n\u001b[1;32m    283\u001b[0m     \u001b[39mif\u001b[39;00m name \u001b[39min\u001b[39;00m \u001b[39mself\u001b[39m\u001b[39m.\u001b[39m_existing_params:\n\u001b[0;32m--> 284\u001b[0m         \u001b[39mraise\u001b[39;00m NameAlreadyTakenError(\n\u001b[1;32m    285\u001b[0m             \u001b[39m\"\u001b[39m\u001b[39mAnother parameter is already named \u001b[39m\u001b[39m{}\u001b[39;00m\u001b[39m. \u001b[39m\u001b[39m\"\u001b[39m\n\u001b[1;32m    286\u001b[0m             \u001b[39m\"\u001b[39m\u001b[39mUse a different, unique one.\u001b[39m\u001b[39m\"\u001b[39m\u001b[39m.\u001b[39mformat(name)\n\u001b[1;32m    287\u001b[0m         )\n\u001b[1;32m    288\u001b[0m     \u001b[39mself\u001b[39m\u001b[39m.\u001b[39m_existing_params\u001b[39m.\u001b[39mupdate({name: \u001b[39mself\u001b[39m})\n\u001b[1;32m    289\u001b[0m     \u001b[39mself\u001b[39m\u001b[39m.\u001b[39m_name \u001b[39m=\u001b[39m name\n",
      "\u001b[0;31mNameAlreadyTakenError\u001b[0m: Another parameter is already named tau_ap. Use a different, unique one."
     ]
    }
   ],
   "source": [
    "obs_unbinned = zfit.Space('t', limits=(48, 2000))\n",
    "data_unbinned = zfit.Data.from_numpy(obs_unbinned, ak.to_numpy(tdiff))\n",
    "tau_ap = zfit.Parameter(\"tau_ap\", 20.0, 2, 100)\n",
    "tau_dc = zfit.Parameter(\"tau_dc\", 1000.0, 2, 100_000)\n",
    "lam_ap = zfit.ComposedParameter('lam_ap', lambda x: -1. / x, params=(tau_ap, ))\n",
    "lam_dc = zfit.ComposedParameter('lam_dc', lambda x: -1. / x, params=(tau_dc, ))\n",
    "pdf_ap = zfit.pdf.Exponential(obs=obs_unbinned, lam=lam_ap)\n",
    "pdf_dc = zfit.pdf.Exponential(obs=obs_unbinned, lam=lam_dc)\n",
    "frac = zfit.Parameter('frac', 0.10, 0.0, 1.0)\n",
    "pdf_unbinned = zfit.pdf.SumPDF(pdfs=[pdf_ap, pdf_dc], fracs=frac)\n",
    "\n",
    "binning = zfit.binned.RegularBinning(244, 48, 2000, name='t')\n",
    "obs_binned = zfit.Space('t', binning=binning)\n",
    "data_binned = data_unbinned.to_binned(obs_binned)\n",
    "pdf_binned = zfit.pdf.BinnedFromUnbinnedPDF(pdf_unbinned, obs_binned)\n"
   ]
  },
  {
   "attachments": {},
   "cell_type": "markdown",
   "metadata": {},
   "source": [
    "Next we can run the fitting routine."
   ]
  },
  {
   "cell_type": "code",
   "execution_count": null,
   "metadata": {},
   "outputs": [],
   "source": [
    "nll = zfit.loss.BinnedNLL(pdf_binned, data_binned)\n",
    "minimizer = zfit.minimize.Minuit()\n",
    "results = minimizer.minimize(nll)\n",
    "results.hesse()\n",
    "print(results)"
   ]
  },
  {
   "attachments": {},
   "cell_type": "markdown",
   "metadata": {},
   "source": [
    "And plot the results onto a canvas!"
   ]
  },
  {
   "cell_type": "code",
   "execution_count": null,
   "metadata": {},
   "outputs": [],
   "source": [
    "fig, (ax1, ax2) = plt.make_ratio_figure()\n",
    "\n",
    "h = hist.Hist(hist.axis.Regular(450, 8, 2000, name='t'))\n",
    "h.fill(t=tdiff)\n",
    "\n",
    "errors = results.error([tau_ap, tau_dc, frac])\n",
    "\n",
    "tap = float(tau_ap.value())\n",
    "tap_lo = errors[tau_ap]['lower']\n",
    "tap_up = errors[tau_ap]['upper']\n",
    "tap_str = plt.number_str(tap, (tap_up, tap_lo))\n",
    "\n",
    "tdc = float(tau_dc.value()) / 1000\n",
    "tdc_lo = errors[tau_dc]['lower'] / 1000\n",
    "tdc_up = errors[tau_dc]['upper'] / 1000\n",
    "tdc_str = plt.number_str(tdc, (tdc_lo, tdc_up))\n",
    "\n",
    "data_style = plt.datastyle(zorder=-1, markersize=6)\n",
    "\n",
    "plt.plot_data1d(ax=ax1, data=h, label='Data', histtype='errorbar', **data_style)\n",
    "scale = dict(data=h, prange=(48, 2000))\n",
    "plt.plot_pdf1d(ax=ax1, pdf=pdf_unbinned, **scale, label='Fit')\n",
    "plt.plot_pdf1d(ax=ax1,\n",
    "               pdf=pdf_ap,\n",
    "               scale=frac,\n",
    "               **scale,\n",
    "               label=f'Afterpulse ($\\\\tau_{{a.p.}}$ = {tap_str} [ns])')\n",
    "plt.plot_pdf1d(ax=ax1,\n",
    "               pdf=pdf_dc,\n",
    "               scale=(1 - frac),\n",
    "               **scale,\n",
    "               label=f'Dark current ($\\\\tau_{{d.c}}$ = {tdc_str} [us])')\n",
    "plt.plot_fitratio(ax=ax2,\n",
    "                  num=h,\n",
    "                  den=pdf_unbinned,\n",
    "                  prange=(48, 2000),\n",
    "                  histtype='errorbar',\n",
    "                  **data_style)\n",
    "ax2.hlines([1.0], 48, 2000)\n",
    "\n",
    "ax1.set_xlim(16, 2000)\n",
    "ax1.legend()\n",
    "ax1.set_xlabel('')\n",
    "ax1.set_ylabel('Number of events')\n",
    "ax2.set_xlabel('Delay time [ns]')\n",
    "ax2.set_ylabel('Data/Fit')\n",
    "ax1.set_yscale('log')\n",
    "ax1.set_xscale('log')\n",
    "plt.add_std_label(ax=ax1, label=\"Preliminary\", rlabel='(LED pulser)')\n",
    "ax1.set_ylim(bottom=np.min(h.view()[h.view() > 0]) / 3)\n",
    "ax2.set_ylim(bottom=0, top=2)\n"
   ]
  }
 ],
 "metadata": {
  "kernelspec": {
   "display_name": "sipmenv",
   "language": "python",
   "name": "python3"
  },
  "language_info": {
   "codemirror_mode": {
    "name": "ipython",
    "version": 3
   },
   "file_extension": ".py",
   "mimetype": "text/x-python",
   "name": "python",
   "nbconvert_exporter": "python",
   "pygments_lexer": "ipython3",
   "version": "3.8.17"
  },
  "orig_nbformat": 4
 },
 "nbformat": 4,
 "nbformat_minor": 2
}
